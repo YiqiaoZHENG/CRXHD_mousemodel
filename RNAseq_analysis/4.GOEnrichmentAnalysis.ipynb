{
 "cells": [
  {
   "cell_type": "markdown",
   "metadata": {},
   "source": [
    "### This script performs Gene Ontology (GO) enrichment analysis differentially expressed genes in CRX homeodomain mutant retinas. *All functions are written in R."
   ]
  },
  {
   "cell_type": "code",
   "execution_count": 1,
   "metadata": {},
   "outputs": [
    {
     "data": {
      "text/html": [
       "<style>\n",
       ".list-inline {list-style: none; margin:0; padding: 0}\n",
       ".list-inline>li {display: inline-block}\n",
       ".list-inline>li:not(:last-child)::after {content: \"\\00b7\"; padding: 0 .5ex}\n",
       "</style>\n",
       "<ol class=list-inline><li>'org.Mm.eg.db'</li><li>'EnsDb.Mmusculus.v102'</li><li>'ensembldb'</li><li>'AnnotationFilter'</li><li>'GenomicFeatures'</li><li>'AnnotationDbi'</li><li>'Biobase'</li><li>'GenomicRanges'</li><li>'GenomeInfoDb'</li><li>'IRanges'</li><li>'S4Vectors'</li><li>'stats4'</li><li>'BiocGenerics'</li><li>'parallel'</li><li>'stats'</li><li>'graphics'</li><li>'grDevices'</li><li>'utils'</li><li>'datasets'</li><li>'methods'</li><li>'base'</li></ol>\n"
      ],
      "text/latex": [
       "\\begin{enumerate*}\n",
       "\\item 'org.Mm.eg.db'\n",
       "\\item 'EnsDb.Mmusculus.v102'\n",
       "\\item 'ensembldb'\n",
       "\\item 'AnnotationFilter'\n",
       "\\item 'GenomicFeatures'\n",
       "\\item 'AnnotationDbi'\n",
       "\\item 'Biobase'\n",
       "\\item 'GenomicRanges'\n",
       "\\item 'GenomeInfoDb'\n",
       "\\item 'IRanges'\n",
       "\\item 'S4Vectors'\n",
       "\\item 'stats4'\n",
       "\\item 'BiocGenerics'\n",
       "\\item 'parallel'\n",
       "\\item 'stats'\n",
       "\\item 'graphics'\n",
       "\\item 'grDevices'\n",
       "\\item 'utils'\n",
       "\\item 'datasets'\n",
       "\\item 'methods'\n",
       "\\item 'base'\n",
       "\\end{enumerate*}\n"
      ],
      "text/markdown": [
       "1. 'org.Mm.eg.db'\n",
       "2. 'EnsDb.Mmusculus.v102'\n",
       "3. 'ensembldb'\n",
       "4. 'AnnotationFilter'\n",
       "5. 'GenomicFeatures'\n",
       "6. 'AnnotationDbi'\n",
       "7. 'Biobase'\n",
       "8. 'GenomicRanges'\n",
       "9. 'GenomeInfoDb'\n",
       "10. 'IRanges'\n",
       "11. 'S4Vectors'\n",
       "12. 'stats4'\n",
       "13. 'BiocGenerics'\n",
       "14. 'parallel'\n",
       "15. 'stats'\n",
       "16. 'graphics'\n",
       "17. 'grDevices'\n",
       "18. 'utils'\n",
       "19. 'datasets'\n",
       "20. 'methods'\n",
       "21. 'base'\n",
       "\n",
       "\n"
      ],
      "text/plain": [
       " [1] \"org.Mm.eg.db\"         \"EnsDb.Mmusculus.v102\" \"ensembldb\"           \n",
       " [4] \"AnnotationFilter\"     \"GenomicFeatures\"      \"AnnotationDbi\"       \n",
       " [7] \"Biobase\"              \"GenomicRanges\"        \"GenomeInfoDb\"        \n",
       "[10] \"IRanges\"              \"S4Vectors\"            \"stats4\"              \n",
       "[13] \"BiocGenerics\"         \"parallel\"             \"stats\"               \n",
       "[16] \"graphics\"             \"grDevices\"            \"utils\"               \n",
       "[19] \"datasets\"             \"methods\"              \"base\"                "
      ]
     },
     "metadata": {},
     "output_type": "display_data"
    },
    {
     "name": "stderr",
     "output_type": "stream",
     "text": [
      "Warning message in system(\"timedatectl\", intern = TRUE):\n",
      "\"running command 'timedatectl' had status 1\"\n"
     ]
    },
    {
     "data": {
      "text/html": [
       "<style>\n",
       ".list-inline {list-style: none; margin:0; padding: 0}\n",
       ".list-inline>li {display: inline-block}\n",
       ".list-inline>li:not(:last-child)::after {content: \"\\00b7\"; padding: 0 .5ex}\n",
       "</style>\n",
       "<ol class=list-inline><li>'clusterProfiler'</li><li>'reshape'</li><li>'forcats'</li><li>'stringr'</li><li>'dplyr'</li><li>'purrr'</li><li>'readr'</li><li>'tidyr'</li><li>'tibble'</li><li>'ggplot2'</li><li>'tidyverse'</li><li>'org.Mm.eg.db'</li><li>'EnsDb.Mmusculus.v102'</li><li>'ensembldb'</li><li>'AnnotationFilter'</li><li>'GenomicFeatures'</li><li>'AnnotationDbi'</li><li>'Biobase'</li><li>'GenomicRanges'</li><li>'GenomeInfoDb'</li><li>'IRanges'</li><li>'S4Vectors'</li><li>'stats4'</li><li>'BiocGenerics'</li><li>'parallel'</li><li>'stats'</li><li>'graphics'</li><li>'grDevices'</li><li>'utils'</li><li>'datasets'</li><li>'methods'</li><li>'base'</li></ol>\n"
      ],
      "text/latex": [
       "\\begin{enumerate*}\n",
       "\\item 'clusterProfiler'\n",
       "\\item 'reshape'\n",
       "\\item 'forcats'\n",
       "\\item 'stringr'\n",
       "\\item 'dplyr'\n",
       "\\item 'purrr'\n",
       "\\item 'readr'\n",
       "\\item 'tidyr'\n",
       "\\item 'tibble'\n",
       "\\item 'ggplot2'\n",
       "\\item 'tidyverse'\n",
       "\\item 'org.Mm.eg.db'\n",
       "\\item 'EnsDb.Mmusculus.v102'\n",
       "\\item 'ensembldb'\n",
       "\\item 'AnnotationFilter'\n",
       "\\item 'GenomicFeatures'\n",
       "\\item 'AnnotationDbi'\n",
       "\\item 'Biobase'\n",
       "\\item 'GenomicRanges'\n",
       "\\item 'GenomeInfoDb'\n",
       "\\item 'IRanges'\n",
       "\\item 'S4Vectors'\n",
       "\\item 'stats4'\n",
       "\\item 'BiocGenerics'\n",
       "\\item 'parallel'\n",
       "\\item 'stats'\n",
       "\\item 'graphics'\n",
       "\\item 'grDevices'\n",
       "\\item 'utils'\n",
       "\\item 'datasets'\n",
       "\\item 'methods'\n",
       "\\item 'base'\n",
       "\\end{enumerate*}\n"
      ],
      "text/markdown": [
       "1. 'clusterProfiler'\n",
       "2. 'reshape'\n",
       "3. 'forcats'\n",
       "4. 'stringr'\n",
       "5. 'dplyr'\n",
       "6. 'purrr'\n",
       "7. 'readr'\n",
       "8. 'tidyr'\n",
       "9. 'tibble'\n",
       "10. 'ggplot2'\n",
       "11. 'tidyverse'\n",
       "12. 'org.Mm.eg.db'\n",
       "13. 'EnsDb.Mmusculus.v102'\n",
       "14. 'ensembldb'\n",
       "15. 'AnnotationFilter'\n",
       "16. 'GenomicFeatures'\n",
       "17. 'AnnotationDbi'\n",
       "18. 'Biobase'\n",
       "19. 'GenomicRanges'\n",
       "20. 'GenomeInfoDb'\n",
       "21. 'IRanges'\n",
       "22. 'S4Vectors'\n",
       "23. 'stats4'\n",
       "24. 'BiocGenerics'\n",
       "25. 'parallel'\n",
       "26. 'stats'\n",
       "27. 'graphics'\n",
       "28. 'grDevices'\n",
       "29. 'utils'\n",
       "30. 'datasets'\n",
       "31. 'methods'\n",
       "32. 'base'\n",
       "\n",
       "\n"
      ],
      "text/plain": [
       " [1] \"clusterProfiler\"      \"reshape\"              \"forcats\"             \n",
       " [4] \"stringr\"              \"dplyr\"                \"purrr\"               \n",
       " [7] \"readr\"                \"tidyr\"                \"tibble\"              \n",
       "[10] \"ggplot2\"              \"tidyverse\"            \"org.Mm.eg.db\"        \n",
       "[13] \"EnsDb.Mmusculus.v102\" \"ensembldb\"            \"AnnotationFilter\"    \n",
       "[16] \"GenomicFeatures\"      \"AnnotationDbi\"        \"Biobase\"             \n",
       "[19] \"GenomicRanges\"        \"GenomeInfoDb\"         \"IRanges\"             \n",
       "[22] \"S4Vectors\"            \"stats4\"               \"BiocGenerics\"        \n",
       "[25] \"parallel\"             \"stats\"                \"graphics\"            \n",
       "[28] \"grDevices\"            \"utils\"                \"datasets\"            \n",
       "[31] \"methods\"              \"base\"                "
      ]
     },
     "metadata": {},
     "output_type": "display_data"
    }
   ],
   "source": [
    "# set up the environment\n",
    "# analysis tools\n",
    "suppressPackageStartupMessages(library(EnsDb.Mmusculus.v102))\n",
    "Ensdb <- EnsDb.Mmusculus.v102\n",
    "suppressPackageStartupMessages((library(org.Mm.eg.db)))\n",
    "Orgdb <- org.Mm.eg.db\n",
    "# table processing tools\n",
    "suppressPackageStartupMessages(library(GenomicRanges))\n",
    "suppressPackageStartupMessages(library(tidyverse))\n",
    "suppressPackageStartupMessages(library(reshape))\n",
    "suppressPackageStartupMessages((library(clusterProfiler)))\n",
    "# figure making tools\n",
    "suppressPackageStartupMessages(library(ggrepel))\n",
    "suppressPackageStartupMessages(library(RColorBrewer))\n",
    "suppressPackageStartupMessages(library(pheatmap))\n",
    "suppressPackageStartupMessages(library(svglite))\n",
    "suppressPackageStartupMessages(library(extrafont))"
   ]
  },
  {
   "cell_type": "markdown",
   "metadata": {},
   "source": [
    "### 0. Housekeeping"
   ]
  },
  {
   "cell_type": "code",
   "execution_count": 16,
   "metadata": {},
   "outputs": [],
   "source": [
    "# set the parent directory as working directory\n",
    "setwd(\"..\")\n",
    "os.chdir(base_dir)\n",
    "base_dir = getwd()"
   ]
  },
  {
   "cell_type": "code",
   "execution_count": 18,
   "metadata": {},
   "outputs": [],
   "source": [
    "# set up directory variables\n",
    "# Specseq data\n",
    "spec_basedir = file.path(base_dir, \"Specseq_analysis\", \"processed_data\")\n",
    "# CRX ChIP data\n",
    "chip_basedir = file.path(base_dir,\"ChIPseq_analysis\",\"processed_data\")\n",
    "# CRX RNA data\n",
    "rna_basedir = file.path(base_dir,\"RNAseq_analysis\",\"processed_data\")\n",
    "# Aldiri RNA data\n",
    "devrna_dir = file.path(base_dir,\"RNAseq_analysis\",\"processed_data\")\n",
    "# figure output directory\n",
    "outbase_dir = file.path(base_dir, \"Figures\")"
   ]
  },
  {
   "cell_type": "code",
   "execution_count": 20,
   "metadata": {},
   "outputs": [],
   "source": [
    "# print the entire graphic object to device\n",
    "save_fig = function(graphicObj, file_name, format='png', width=8, height=8){\n",
    "    # first check if directory exists, create if not\n",
    "    dir.create(dirname(file_name), showWarnings = FALSE)\n",
    "    if(format == \"png\"){\n",
    "        png(paste0(file_name,\".png\"), width = width, height = height)\n",
    "        print(graphicObj)\n",
    "    }\n",
    "    if(format == \"svg\"){\n",
    "        svglite(paste0(file_name,\".svg\"), width = width, height = height)\n",
    "        print(graphicObj)\n",
    "    }\n",
    "    dev.off()\n",
    "}"
   ]
  },
  {
   "cell_type": "markdown",
   "metadata": {},
   "source": [
    "### I. load processed tables"
   ]
  },
  {
   "cell_type": "code",
   "execution_count": 27,
   "metadata": {},
   "outputs": [],
   "source": [
    "# read the processed crx dependent gene tables\n",
    "crx_dependent_gene <- read.table(file=file.path(rna_basedir, \"crx_dependent_genes.tsv\"), sep=\"\\t\", header=TRUE)"
   ]
  },
  {
   "cell_type": "code",
   "execution_count": 28,
   "metadata": {},
   "outputs": [
    {
     "data": {
      "text/html": [
       "<table class=\"dataframe\">\n",
       "<caption>A data.frame: 4 × 14</caption>\n",
       "<thead>\n",
       "\t<tr><th></th><th scope=col>seqnames</th><th scope=col>start</th><th scope=col>end</th><th scope=col>width</th><th scope=col>chip.r90w.lfc</th><th scope=col>chip.r90w.fdr</th><th scope=col>chip_group</th><th scope=col>strand</th><th scope=col>gene</th><th scope=col>distTSS</th><th scope=col>peak.id</th><th scope=col>p21.rhom.lfc</th><th scope=col>p21.rhom.padj</th><th scope=col>rna_group</th></tr>\n",
       "\t<tr><th></th><th scope=col>&lt;chr&gt;</th><th scope=col>&lt;int&gt;</th><th scope=col>&lt;int&gt;</th><th scope=col>&lt;int&gt;</th><th scope=col>&lt;dbl&gt;</th><th scope=col>&lt;dbl&gt;</th><th scope=col>&lt;chr&gt;</th><th scope=col>&lt;chr&gt;</th><th scope=col>&lt;chr&gt;</th><th scope=col>&lt;dbl&gt;</th><th scope=col>&lt;chr&gt;</th><th scope=col>&lt;dbl&gt;</th><th scope=col>&lt;dbl&gt;</th><th scope=col>&lt;chr&gt;</th></tr>\n",
       "</thead>\n",
       "<tbody>\n",
       "\t<tr><th scope=row>1</th><td>chr1</td><td>193370098</td><td>193370498</td><td>401</td><td>-2.917337</td><td>6.854102e-05</td><td>Lost</td><td>*</td><td>Camk1g</td><td>    0</td><td>peak.614</td><td>-0.9219836</td><td>0.03399652</td><td>No Change</td></tr>\n",
       "\t<tr><th scope=row>2</th><td>chr1</td><td>161968885</td><td>161969285</td><td>401</td><td>-2.341775</td><td>1.821379e-03</td><td>Lost</td><td>*</td><td>Pigc  </td><td> -143</td><td>peak.465</td><td>-0.1515740</td><td>0.34005166</td><td>No Change</td></tr>\n",
       "\t<tr><th scope=row>3</th><td>chr1</td><td> 39451998</td><td> 39452398</td><td>401</td><td>-2.953355</td><td>6.346306e-05</td><td>Lost</td><td>*</td><td>Tbc1d8</td><td>26557</td><td>peak.73 </td><td>-0.1349072</td><td>0.57917740</td><td>No Change</td></tr>\n",
       "\t<tr><th scope=row>4</th><td>chr1</td><td>183271294</td><td>183271694</td><td>401</td><td>-3.084468</td><td>9.975081e-06</td><td>Lost</td><td>*</td><td>Brox  </td><td>25498</td><td>peak.567</td><td> 0.0702570</td><td>0.83775985</td><td>No Change</td></tr>\n",
       "</tbody>\n",
       "</table>\n"
      ],
      "text/latex": [
       "A data.frame: 4 × 14\n",
       "\\begin{tabular}{r|llllllllllllll}\n",
       "  & seqnames & start & end & width & chip.r90w.lfc & chip.r90w.fdr & chip\\_group & strand & gene & distTSS & peak.id & p21.rhom.lfc & p21.rhom.padj & rna\\_group\\\\\n",
       "  & <chr> & <int> & <int> & <int> & <dbl> & <dbl> & <chr> & <chr> & <chr> & <dbl> & <chr> & <dbl> & <dbl> & <chr>\\\\\n",
       "\\hline\n",
       "\t1 & chr1 & 193370098 & 193370498 & 401 & -2.917337 & 6.854102e-05 & Lost & * & Camk1g &     0 & peak.614 & -0.9219836 & 0.03399652 & No Change\\\\\n",
       "\t2 & chr1 & 161968885 & 161969285 & 401 & -2.341775 & 1.821379e-03 & Lost & * & Pigc   &  -143 & peak.465 & -0.1515740 & 0.34005166 & No Change\\\\\n",
       "\t3 & chr1 &  39451998 &  39452398 & 401 & -2.953355 & 6.346306e-05 & Lost & * & Tbc1d8 & 26557 & peak.73  & -0.1349072 & 0.57917740 & No Change\\\\\n",
       "\t4 & chr1 & 183271294 & 183271694 & 401 & -3.084468 & 9.975081e-06 & Lost & * & Brox   & 25498 & peak.567 &  0.0702570 & 0.83775985 & No Change\\\\\n",
       "\\end{tabular}\n"
      ],
      "text/markdown": [
       "\n",
       "A data.frame: 4 × 14\n",
       "\n",
       "| <!--/--> | seqnames &lt;chr&gt; | start &lt;int&gt; | end &lt;int&gt; | width &lt;int&gt; | chip.r90w.lfc &lt;dbl&gt; | chip.r90w.fdr &lt;dbl&gt; | chip_group &lt;chr&gt; | strand &lt;chr&gt; | gene &lt;chr&gt; | distTSS &lt;dbl&gt; | peak.id &lt;chr&gt; | p21.rhom.lfc &lt;dbl&gt; | p21.rhom.padj &lt;dbl&gt; | rna_group &lt;chr&gt; |\n",
       "|---|---|---|---|---|---|---|---|---|---|---|---|---|---|---|\n",
       "| 1 | chr1 | 193370098 | 193370498 | 401 | -2.917337 | 6.854102e-05 | Lost | * | Camk1g |     0 | peak.614 | -0.9219836 | 0.03399652 | No Change |\n",
       "| 2 | chr1 | 161968885 | 161969285 | 401 | -2.341775 | 1.821379e-03 | Lost | * | Pigc   |  -143 | peak.465 | -0.1515740 | 0.34005166 | No Change |\n",
       "| 3 | chr1 |  39451998 |  39452398 | 401 | -2.953355 | 6.346306e-05 | Lost | * | Tbc1d8 | 26557 | peak.73  | -0.1349072 | 0.57917740 | No Change |\n",
       "| 4 | chr1 | 183271294 | 183271694 | 401 | -3.084468 | 9.975081e-06 | Lost | * | Brox   | 25498 | peak.567 |  0.0702570 | 0.83775985 | No Change |\n",
       "\n"
      ],
      "text/plain": [
       "  seqnames start     end       width chip.r90w.lfc chip.r90w.fdr chip_group\n",
       "1 chr1     193370098 193370498 401   -2.917337     6.854102e-05  Lost      \n",
       "2 chr1     161968885 161969285 401   -2.341775     1.821379e-03  Lost      \n",
       "3 chr1      39451998  39452398 401   -2.953355     6.346306e-05  Lost      \n",
       "4 chr1     183271294 183271694 401   -3.084468     9.975081e-06  Lost      \n",
       "  strand gene   distTSS peak.id  p21.rhom.lfc p21.rhom.padj rna_group\n",
       "1 *      Camk1g     0   peak.614 -0.9219836   0.03399652    No Change\n",
       "2 *      Pigc    -143   peak.465 -0.1515740   0.34005166    No Change\n",
       "3 *      Tbc1d8 26557   peak.73  -0.1349072   0.57917740    No Change\n",
       "4 *      Brox   25498   peak.567  0.0702570   0.83775985    No Change"
      ]
     },
     "metadata": {},
     "output_type": "display_data"
    }
   ],
   "source": [
    "head(crx_dependent_gene, n=4)"
   ]
  },
  {
   "cell_type": "markdown",
   "metadata": {},
   "source": [
    "### II. Functions to run GO enrichment analysis and visualize results"
   ]
  },
  {
   "cell_type": "code",
   "execution_count": 53,
   "metadata": {},
   "outputs": [],
   "source": [
    "GO_enrichement <- function(matrix, ontology=\"BP\", top.n=1000, random.n=NA, padj.method= \"BH\", q.th=0.05) {\n",
    "    if (nrow(matrix) < 15){\n",
    "        print(\"less than 15 genes in matrix, skipping. return Null\")\n",
    "        return (NULL)\n",
    "    }else{\n",
    "        # take only the top.n genes if the genelist length is more than that\n",
    "        if (length(matrix) > top.n){ #already prearranged by abs(lfc), so gained/loss are both top.n\n",
    "            matrix <- matrix %>% slice_head(n=top.n)\n",
    "        }\n",
    "        # first convert geneID back to entrez ID ...\n",
    "        IDto.entrez <- AnnotationDbi::select(Ensdb,\n",
    "                                    keys = matrix$gene,\n",
    "                                    keytype=\"GENENAME\",\n",
    "                                    columns=\"ENTREZID\"\n",
    "                                    )\n",
    "        # Run GO enrichment analysis and retrieve results as dataframe\n",
    "        ego <- enrichGO(gene = IDto.entrez$ENTREZID, \n",
    "                        keyType = \"ENTREZID\", \n",
    "                        OrgDb = Orgdb, \n",
    "                        ont = ontology, \n",
    "                        pAdjustMethod = padj.method, \n",
    "                        qvalueCutoff = q.th, \n",
    "                        readable = TRUE) #%>% data.frame()\n",
    "        \n",
    "        return(ego)\n",
    "    }\n",
    "}"
   ]
  },
  {
   "cell_type": "code",
   "execution_count": 59,
   "metadata": {},
   "outputs": [],
   "source": [
    "# Dotplot visualization for individual category\n",
    "clusterProfiler_GO_dotplot <- function(ego.obj, category, age, top.n = 10, save_bool=FALSE, figureout_dir=file.path(outbase_dir, \"gene.ontology\")){\n",
    "    if (!is.null(ego.obj)){\n",
    "        matrix <- ego.obj %>% data.frame() %>% dplyr::slice_head(n=top.n) %>% arrange(desc(p.adjust))\n",
    "        GO.term <- ego.obj@ontology\n",
    "        file.name <- file.path(figureout_dir, paste0(age, \".\", category, \".\", GO.term, \".top\", top.n, \".png\"))\n",
    "        print(paste(\"drawing\",category, GO.term, \".top\", top.n))\n",
    "        if (nrow(matrix)>0){\n",
    "            if (save_bool) {\n",
    "            png(file.name, width=800, height=400, unit=\"px\", bg=\"#ffffff\")\n",
    "            print(dotchart(-log(matrix$p.adjust, base=10), labels=matrix$Description, xlab = \"Hyper_Adjp_BH\", main = paste(age, \"top\", GO.term, \"terms\\nat\", str_replace(category, \"_\", \" \"), \"genes\")))\n",
    "            dev.off()\n",
    "            }\n",
    "            print(dotchart(-log(matrix$p.adjust, base=10), labels=matrix$Description, xlab = \"Hyper_Adjp_BH\", main = paste(age, \"top\", GO.term, \"terms\\nat\", str_replace(category, \"_\", \" \"), \"genes\")) + xlim(0,round(max(-log(matrix$p.adjust, base=10))+0.5)))\n",
    "            }\n",
    "        else{print(\"no enriched category found\")}\n",
    "\n",
    "    }else{\n",
    "        print(\"less than 15 genes in the category, GO analysis was not run\")\n",
    "    }    \n",
    "}"
   ]
  },
  {
   "cell_type": "markdown",
   "metadata": {},
   "source": [
    "### III. GO analysis for CRX dependent and independent gene sets (Extended Data Fig. 4)"
   ]
  },
  {
   "cell_type": "markdown",
   "metadata": {},
   "source": [
    "#### a. CRX-dependent activated gene set"
   ]
  },
  {
   "cell_type": "code",
   "execution_count": null,
   "metadata": {},
   "outputs": [],
   "source": [
    "# retrieve gene name and entrezid\n",
    "crx_Dact_genes <- crx_dependent_gene %>% arrange(desc(p21.rhom.lfc)) %>% filter(rna_group == \"Lost\") \n",
    "IDto.entrez <- AnnotationDbi::select(Ensdb,\n",
    "                                    keys = crx_Dact_genes$gene,\n",
    "                                    keytype=\"GENENAME\",\n",
    "                                    columns=\"ENTREZID\"\n",
    "                                    )\n",
    "# attach fold change column\n",
    "IDto.entrez$fold <- all_lfc$p21.rhom.lfc[match(IDto.entrez$GENENAME, all_lfc$gene)]\n",
    "\n",
    "# run GO enrichment analysis on genelist\n",
    "crx_Dact_GO <- enrichGO(gene = IDto.entrez$ENTREZID, \n",
    "                        keyType = \"ENTREZID\", \n",
    "                        OrgDb = Orgdb, \n",
    "                        ont = \"BP\", \n",
    "                        pAdjustMethod = \"BH\", \n",
    "                        qvalueCutoff = 0.05, \n",
    "                        readable = TRUE)\n",
    "\n",
    "# use simplify to remove redundant terms\n",
    "simp_crx_Dact_GO <- simplify(crx_Dact_GO, cutoff=0.7, by=\"p.adjust\", select_fun=min)\n",
    "\n",
    "# check top10 terms\n",
    "clusterProfiler_GO_dotplot(simp_crx_Dact_GO, \"BP\", \"p21\", top.n = 10, save_bool=FALSE)"
   ]
  },
  {
   "cell_type": "code",
   "execution_count": 65,
   "metadata": {},
   "outputs": [],
   "source": [
    "file.name <- file.path(rna_basedir, \"gene.ontology\", \"crx_depAct_genes.tsv\")\n",
    "simp_crx_Dact_GO %>% data.frame() %>% arrange(p.adjust) %>% write.table(file=file.name, sep=\"\\t\", quote=FALSE, row.names=FALSE, col.names=TRUE)"
   ]
  },
  {
   "cell_type": "markdown",
   "metadata": {},
   "source": [
    "#### b. CRX-independent gene set"
   ]
  },
  {
   "cell_type": "code",
   "execution_count": 66,
   "metadata": {},
   "outputs": [
    {
     "name": "stdout",
     "output_type": "stream",
     "text": [
      "[1] \"drawing BP BP .top 10\"\n",
      "NULL\n"
     ]
    },
    {
     "data": {
      "image/png": "[encoded data removed]",
      "text/plain": [
       "Plot with title \"p21 top BP terms\n",
       "at BP genes\""
      ]
     },
     "metadata": {
      "image/png": {
       "height": 420,
       "width": 420
      }
     },
     "output_type": "display_data"
    }
   ],
   "source": [
    "# retrieve gene name and entrezid\n",
    "crx_Ind_genes <- crx_dependent_gene %>% arrange(desc(p21.rhom.lfc)) %>% filter(rna_group == \"No Change\") \n",
    "IDto.entrez <- AnnotationDbi::select(Ensdb,\n",
    "                                    keys = crx_Ind_genes$gene,\n",
    "                                    keytype=\"GENENAME\",\n",
    "                                    columns=\"ENTREZID\"\n",
    "                                    )\n",
    "# attach fold change column\n",
    "IDto.entrez$fold <- all_lfc$p21.rhom.lfc[match(IDto.entrez$GENENAME, all_lfc$gene)]\n",
    "\n",
    "# run GO enrichment analysis on genelist\n",
    "crx_Ind_GO <- enrichGO(gene = IDto.entrez$ENTREZID, \n",
    "                        keyType = \"ENTREZID\", \n",
    "                        OrgDb = Orgdb, \n",
    "                        ont = \"BP\", \n",
    "                        pAdjustMethod = \"BH\", \n",
    "                        qvalueCutoff = 0.05, \n",
    "                        readable = TRUE)\n",
    "\n",
    "# use simplify to remove redundant terms\n",
    "simp_crx_Ind_GO <- simplify(crx_Ind_GO, cutoff=0.7, by=\"p.adjust\", select_fun=min)\n",
    "\n",
    "# check top10 terms\n",
    "clusterProfiler_GO_dotplot(simp_crx_Ind_GO, \"BP\", \"p21\", top.n = 10, save_bool=FALSE)"
   ]
  },
  {
   "cell_type": "code",
   "execution_count": 67,
   "metadata": {},
   "outputs": [],
   "source": [
    "file.name <- file.path(rna_basedir, \"gene.ontology\", \"crx_independent_genes.tsv\")\n",
    "simp_crx_Ind_GO %>% data.frame() %>% arrange(p.adjust) %>% write.table(file=file.name, sep=\"\\t\", quote=FALSE, row.names=FALSE, col.names=TRUE)"
   ]
  },
  {
   "cell_type": "markdown",
   "metadata": {},
   "source": [
    "### IV. GO analysis for subset of genes in CRX-independent category that show differential expression in HD mutants (Extended Data Fig. 5)"
   ]
  },
  {
   "cell_type": "markdown",
   "metadata": {},
   "source": [
    "#### a. $Crx^{E80A}$ mutants"
   ]
  },
  {
   "cell_type": "code",
   "execution_count": 68,
   "metadata": {},
   "outputs": [],
   "source": [
    "p10.e80a.independentGenes <- read.table(file=file.path(rna_basedir, \"p10_e80a_independentGenes_bindingIntensity.tsv\"), sep=\"\\t\", header=TRUE)\n",
    "#drop duplicates and then split into gain and lost\n",
    "p10.e80a.independentGenes <- p10.e80a.independentGenes %>% dplyr::distinct(gene, .keep_all= TRUE)\n",
    "p10.e80a.ind.gainGenes <- p10.e80a.independentGenes %>% dplyr::filter(subgroup==\"group1\")\n",
    "p10.e80a.ind.lostGenes <- p10.e80a.independentGenes %>% dplyr::filter(subgroup==\"group2\")"
   ]
  },
  {
   "cell_type": "code",
   "execution_count": 69,
   "metadata": {},
   "outputs": [
    {
     "name": "stdout",
     "output_type": "stream",
     "text": [
      "[1] \"drawing BP BP .top 20\"\n",
      "NULL\n"
     ]
    },
    {
     "data": {
      "image/png": "[encoded data removed]",
      "text/plain": [
       "Plot with title \"p10 top BP terms\n",
       "at BP genes\""
      ]
     },
     "metadata": {
      "image/png": {
       "height": 420,
       "width": 420
      }
     },
     "output_type": "display_data"
    }
   ],
   "source": [
    "# retrieve gene name and entrezid\n",
    "IDto.entrez <- AnnotationDbi::select(Ensdb,\n",
    "                                    keys = p10.e80a.ind.gainGenes$gene,\n",
    "                                    keytype=\"GENENAME\",\n",
    "                                    columns=\"ENTREZID\"\n",
    "                                    )\n",
    "# run GO analysis\n",
    "p10.e80a.ind.gainGenes_GO <- enrichGO(gene = IDto.entrez$ENTREZID, \n",
    "                        keyType = \"ENTREZID\", \n",
    "                        OrgDb = Orgdb, \n",
    "                        ont = \"BP\", \n",
    "                        pAdjustMethod = \"BH\", \n",
    "                        qvalueCutoff = 0.1, \n",
    "                        readable = TRUE)\n",
    "\n",
    "clusterProfiler_GO_dotplot(p10.e80a.ind.gainGenes_GO, \"BP\", \"p10\", top.n = 20, save_bool=FALSE)"
   ]
  },
  {
   "cell_type": "code",
   "execution_count": 70,
   "metadata": {},
   "outputs": [
    {
     "name": "stdout",
     "output_type": "stream",
     "text": [
      "[1] \"drawing BP BP .top 20\"\n",
      "[1] \"no enriched category found\"\n"
     ]
    }
   ],
   "source": [
    "# retrieve gene name and entrezid\n",
    "IDto.entrez <- AnnotationDbi::select(Ensdb,\n",
    "                                    keys = p10.e80a.ind.lostGenes$gene,\n",
    "                                    keytype=\"GENENAME\",\n",
    "                                    columns=\"ENTREZID\"\n",
    "                                    )\n",
    "# run GO analysis\n",
    "p10.e80a.ind.lostGenes_GO <- enrichGO(gene = IDto.entrez$ENTREZID, \n",
    "                        keyType = \"ENTREZID\", \n",
    "                        OrgDb = Orgdb, \n",
    "                        ont = \"BP\", \n",
    "                        pAdjustMethod = \"BH\", \n",
    "                        qvalueCutoff = 0.1, \n",
    "                        readable = TRUE)\n",
    "\n",
    "clusterProfiler_GO_dotplot(p10.e80a.ind.lostGenes_GO, \"BP\", \"p10\", top.n = 20, save_bool=FALSE)"
   ]
  },
  {
   "cell_type": "markdown",
   "metadata": {},
   "source": [
    "#### b. $Crx^{K88N}$ mutants"
   ]
  },
  {
   "cell_type": "code",
   "execution_count": 71,
   "metadata": {},
   "outputs": [],
   "source": [
    "p10.k88n.independentGenes <- read.table(file=file.path(rna_basedir, \"p10_k88n_independentGenes_bindingIntensity.tsv\"), sep=\"\\t\", header=TRUE)\n",
    "#drop duplicates and then split into gain and lost\n",
    "p10.k88n.independentGenes <- p10.k88n.independentGenes %>% dplyr::distinct(gene, .keep_all= TRUE)\n",
    "p10.k88n.ind.gainGenes <- p10.k88n.independentGenes %>% dplyr::filter(subgroup==\"group1\")\n",
    "p10.k88n.ind.lostGenes <- p10.k88n.independentGenes %>% dplyr::filter(subgroup==\"group2\")"
   ]
  },
  {
   "cell_type": "code",
   "execution_count": 72,
   "metadata": {},
   "outputs": [
    {
     "name": "stdout",
     "output_type": "stream",
     "text": [
      "[1] \"drawing BP BP .top 20\"\n",
      "[1] \"no enriched category found\"\n"
     ]
    }
   ],
   "source": [
    "# retrieve gene name and entrezid\n",
    "IDto.entrez <- AnnotationDbi::select(Ensdb,\n",
    "                                    keys = p10.k88n.ind.gainGenes$gene,\n",
    "                                    keytype=\"GENENAME\",\n",
    "                                    columns=\"ENTREZID\"\n",
    "                                    )\n",
    "# run GO analysis\n",
    "p10.k88n.ind.gainGenes_GO <- enrichGO(gene = IDto.entrez$ENTREZID, \n",
    "                        keyType = \"ENTREZID\", \n",
    "                        OrgDb = Orgdb, \n",
    "                        ont = \"BP\", \n",
    "                        pAdjustMethod = \"BH\", \n",
    "                        qvalueCutoff = 0.1, \n",
    "                        readable = TRUE)\n",
    "\n",
    "clusterProfiler_GO_dotplot(p10.k88n.ind.gainGenes_GO, \"BP\", \"p10\", top.n = 20, save_bool=FALSE)"
   ]
  },
  {
   "cell_type": "code",
   "execution_count": 73,
   "metadata": {},
   "outputs": [
    {
     "name": "stdout",
     "output_type": "stream",
     "text": [
      "[1] \"drawing BP BP .top 20\"\n",
      "NULL\n"
     ]
    },
    {
     "data": {
      "image/png": "[encoded data removed]",
      "text/plain": [
       "Plot with title \"p10 top BP terms\n",
       "at BP genes\""
      ]
     },
     "metadata": {
      "image/png": {
       "height": 420,
       "width": 420
      }
     },
     "output_type": "display_data"
    }
   ],
   "source": [
    "# retrieve gene name and entrezid\n",
    "IDto.entrez <- AnnotationDbi::select(Ensdb,\n",
    "                                    keys = p10.k88n.ind.lostGenes$gene,\n",
    "                                    keytype=\"GENENAME\",\n",
    "                                    columns=\"ENTREZID\"\n",
    "                                    )\n",
    "# run GO analysis\n",
    "p10.k88n.ind.lostGenes_GO <- enrichGO(gene = IDto.entrez$ENTREZID, \n",
    "                        keyType = \"ENTREZID\", \n",
    "                        OrgDb = Orgdb, \n",
    "                        ont = \"BP\", \n",
    "                        pAdjustMethod = \"BH\", \n",
    "                        qvalueCutoff = 0.1, \n",
    "                        readable = TRUE)\n",
    "\n",
    "# use simplify to remove redundant terms\n",
    "simp_p10.k88n.ind.lostGenes_GO <- simplify(p10.k88n.ind.lostGenes_GO, cutoff=0.7, by=\"p.adjust\", select_fun=min)\n",
    "\n",
    "clusterProfiler_GO_dotplot(simp_p10.k88n.ind.lostGenes_GO, \"BP\", \"p10\", top.n = 20, save_bool=FALSE)"
   ]
  },
  {
   "cell_type": "code",
   "execution_count": 76,
   "metadata": {},
   "outputs": [],
   "source": [
    "saveRDS(p10.k88n.ind.lostGenes_GO, file=file.path(rna_basedir, \"gene.ontology\", \"p10.k88n.ind.lostGenes_GO.rds\"))"
   ]
  },
  {
   "cell_type": "code",
   "execution_count": 77,
   "metadata": {},
   "outputs": [],
   "source": [
    "file.name <- file.path(rna_basedir, \"gene.ontology\", \"p10.k88n.ind.lostGenes.tsv\")\n",
    "simp_p10.k88n.ind.lostGenes_GO %>% data.frame() %>% arrange(p.adjust) %>% write.table(file=file.name, sep=\"\\t\", quote=FALSE, row.names=FALSE, col.names=TRUE)"
   ]
  }
 ],
 "metadata": {
  "interpreter": {
   "hash": "5a0718fd9aaf406fa440379ffaf0dd57dcd97fc9a1931f8a9a8fe4f39e47895e"
  },
  "kernelspec": {
   "display_name": "R",
   "language": "R",
   "name": "ir"
  },
  "language_info": {
   "codemirror_mode": "r",
   "file_extension": ".r",
   "mimetype": "text/x-r-source",
   "name": "R",
   "pygments_lexer": "r",
   "version": "4.0.5"
  },
  "orig_nbformat": 4
 },
 "nbformat": 4,
 "nbformat_minor": 2
}
