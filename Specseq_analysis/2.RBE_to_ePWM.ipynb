{
 "cells": [
  {
   "cell_type": "markdown",
   "metadata": {},
   "source": [
    "### This script generates energy models (ePWMs) from relative binding energy (RBE) matrix for each CRX HD in the Spec-seq experiment."
   ]
  },
  {
   "cell_type": "code",
   "execution_count": 1,
   "metadata": {},
   "outputs": [],
   "source": [
    "import os\n",
    "import sys\n",
    "import re\n",
    "import glob2\n",
    "import itertools\n",
    "import subprocess\n",
    "\n",
    "import numpy as np\n",
    "import pandas as pd\n",
    "from scipy import stats\n",
    "from sklearn import linear_model\n",
    "\n",
    "import matplotlib as mpl\n",
    "import matplotlib.pyplot as plt\n",
    "import matplotlib.patches as mpatches\n",
    "import matplotlib.font_manager"
   ]
  },
  {
   "cell_type": "code",
   "execution_count": null,
   "metadata": {},
   "outputs": [],
   "source": [
    "# get hex color code of matplotlib palette\n",
    "from pylab import *\n",
    "\n",
    "cmap = cm.get_cmap('tab20')  # matplotlib color palette name, n colors\n",
    "for i in range(cmap.N):\n",
    "    rgb = cmap(i)[:3]  # will return rgba, we take only first 3 so we get rgb\n",
    "    print(matplotlib.colors.rgb2hex(rgb))"
   ]
  },
  {
   "cell_type": "markdown",
   "metadata": {},
   "source": [
    "### 0. Housekeeping"
   ]
  },
  {
   "cell_type": "code",
   "execution_count": 2,
   "metadata": {},
   "outputs": [],
   "source": [
    "# set the parent directory as the working directory\n",
    "# compatible naming between WinOS and MacOS\n",
    "base_dir = os.path.dirname(os.getcwd())\n",
    "os.chdir(base_dir)\n",
    "sys.path.insert(0, os.path.join(base_dir,\"utils\"))"
   ]
  },
  {
   "cell_type": "code",
   "execution_count": null,
   "metadata": {},
   "outputs": [],
   "source": [
    "from utils import specseq_plot_utils, specseq_ewm_utils, calculate_ratios"
   ]
  },
  {
   "cell_type": "code",
   "execution_count": 3,
   "metadata": {},
   "outputs": [],
   "source": [
    "# set up directory variables\n",
    "# Specseq data\n",
    "spec_basedir = os.path.join(base_dir, \"Specseq_analysis\", \"processed_data\")\n",
    "scriptdir=os.path.join(base_dir, \"Specseq_analysis\")\n",
    "# CRX ChIP data\n",
    "chip_basedir = os.path.join(base_dir,\"ChIPseq_analysis\",\"processed_data\")\n",
    "# CRX RNA data\n",
    "rna_basedir = os.path.join(base_dir,\"RNAseq_analysis\",\"processed_data\")\n",
    "# Aldiri RNA data\n",
    "devrna_dir = os.path.join(base_dir,\"RNAseq_analysis\",\"processed_data\")\n",
    "# figure output directory\n",
    "outbase_dir = os.path.join(base_dir, \"Figures\")"
   ]
  },
  {
   "cell_type": "code",
   "execution_count": 8,
   "metadata": {},
   "outputs": [],
   "source": [
    "specseq_plot_utils.set_manuscript_params()\n",
    "# Define library design (update as new libraries added)\n",
    "lib_designs = {\n",
    "    # for automatically adding filter sequences\n",
    "    \"M\":\"TAANNN\",\n",
    "    \"Mrev\":\"NNNTTA\",\n",
    "}\n",
    "# Define the two colormaps: classic and colorblind safe\n",
    "dna_classic = {\n",
    "    # as in most of the pwm figures\n",
    "    \"A\": [0, 0.5, 0],\n",
    "    \"C\": [0, 0, 1],\n",
    "    \"G\": [1, 0.65, 0],\n",
    "    \"T\": [1, 0, 0],\n",
    "    \"filler\": \"#979797\"\n",
    "}\n",
    "dna_safe = {\n",
    "    # from the Stormo lab\n",
    "    \"A\": \"#0E927B\",\n",
    "    \"C\": \"#59A9D8\",\n",
    "    \"G\": \"#DC9514\",\n",
    "    \"T\": \"#1A1A1A\",\n",
    "    \"filler\": \"#979797\"\n",
    "}"
   ]
  },
  {
   "cell_type": "markdown",
   "metadata": {},
   "source": [
    "### I. Retrieve all RBE files in the given folder"
   ]
  },
  {
   "cell_type": "code",
   "execution_count": 9,
   "metadata": {},
   "outputs": [],
   "source": [
    "# directories containing processed RBE data\n",
    "RBE_dir=os.path.join(spec_basedir, \"RBE\",\"avgRBE\")\n",
    "figure_dir=os.path.join(base_dir, \"Figures\")\n",
    "# retrieve RBE files with specified order\n",
    "RBE_filelist = [os.path.join(RBE_dir, f\"{p}_avgRBE.txt\") for p in [\"wt\", \"e80a\", \"k88n\", \"r90w\"]]\n",
    "# alternative: list all avg RBE file in directory without specifying order\n",
    "#RBE_filelist=list(glob2.glob(os.path.join(RBE_dir,\"*_avgRBE.txt\")))\n",
    "\n",
    "all_energy_matrix = {os.path.split(RBE_filelist[i])[1].split(\"_avgRBE.txt\")[0]:pd.read_csv(RBE_filelist[i], sep=\"\\t\", header=0) for i in range(len(RBE_filelist))}\n",
    "# convert to series\n",
    "all_energy_matrix = pd.Series(all_energy_matrix)"
   ]
  },
  {
   "cell_type": "markdown",
   "metadata": {},
   "source": [
    "### II. Iterate through all RBE data and build energy model for selected library and band in each dataset"
   ]
  },
  {
   "cell_type": "code",
   "execution_count": 10,
   "metadata": {},
   "outputs": [
    {
     "name": "stdout",
     "output_type": "stream",
     "text": [
      "wt.M.m\n",
      "  - fitting energy data avg.M.mddG with linear model\n",
      "wt.Mrev.m\n",
      "  - fitting energy data avg.Mrev.mddG with linear model\n",
      "e80a.M.m\n",
      "  - fitting energy data avg.M.mddG with linear model\n",
      "e80a.Mrev.m\n",
      "  - fitting energy data avg.Mrev.mddG with linear model\n",
      "k88n.M.m\n",
      "  - fitting energy data avg.M.mddG with linear model\n",
      "k88n.Mrev.m\n",
      "  - fitting energy data avg.Mrev.mddG with linear model\n",
      "r90w.M.m\n",
      "  - fitting energy data avg.M.mddG with linear model\n",
      "r90w.Mrev.m\n",
      "  - fitting energy data avg.Mrev.mddG with linear model\n"
     ]
    },
    {
     "data": {
      "text/plain": [
       "Index(['wt.M.m', 'wt.Mrev.m', 'e80a.M.m', 'e80a.Mrev.m', 'k88n.M.m',\n",
       "       'k88n.Mrev.m', 'r90w.M.m', 'r90w.Mrev.m'],\n",
       "      dtype='object')"
      ]
     },
     "execution_count": 10,
     "metadata": {},
     "output_type": "execute_result"
    }
   ],
   "source": [
    "all_energy_model = specseq_ewm_utils.ewm_from_RBE(all_energy_matrix, lib_list=[\"M\", \"Mrev\"], find_band=\"m\", normalize=False)\n",
    "all_energy_model.index"
   ]
  },
  {
   "cell_type": "code",
   "execution_count": null,
   "metadata": {},
   "outputs": [],
   "source": [
    "# check one ePWM to make sure the formatting is correct\n",
    "all_energy_model[\"wt.M.m\"]"
   ]
  },
  {
   "cell_type": "code",
   "execution_count": 11,
   "metadata": {},
   "outputs": [],
   "source": [
    "# Compile and save all energy models in the dictionary into a single file\n",
    "specseq_ewm_utils.save_ewm(all_energy_model,os.path.join(spec_basedir,\"specseq_ewm_sklearn.txt\"))"
   ]
  },
  {
   "cell_type": "markdown",
   "metadata": {},
   "source": [
    "### II.alternative: Generate energy models with lm() from specseq_mlr.R \n",
    "#### written as described in the original paper, gives exact same result as Python scikit-learn LinearRegression but slower"
   ]
  },
  {
   "cell_type": "code",
   "execution_count": null,
   "metadata": {},
   "outputs": [],
   "source": [
    "all_mlr_energy_model = specseq_ewm_utils.mlr_ewm_from_RBE(scriptdir, RBE_filelist, lib_list=[\"M\",\"Mrev\"], find_band=\"m\")\n",
    "print(all_mlr_energy_model.index)"
   ]
  },
  {
   "cell_type": "code",
   "execution_count": null,
   "metadata": {},
   "outputs": [],
   "source": [
    "specseq_ewm_utils.save_ewm(all_mlr_energy_model,os.path.join(spec_basedir,\"specseq_ewm_mlr.txt\"))"
   ]
  },
  {
   "cell_type": "markdown",
   "metadata": {},
   "source": [
    "#### Comparison of energy matrix from sklearn (python) and from lm (R)"
   ]
  },
  {
   "cell_type": "code",
   "execution_count": null,
   "metadata": {},
   "outputs": [],
   "source": [
    "# lr model from Python scikit-learn LinearRegression function (if row min = 0kT, the ePWM is not normalized)\n",
    "all_energy_model[\"wt.M.m\"]"
   ]
  },
  {
   "cell_type": "code",
   "execution_count": null,
   "metadata": {},
   "outputs": [],
   "source": [
    "# lr model from R lm() function (ePWMs are automatically normalized, i.e. row sum = 0kT)\n",
    "all_mlr_energy_model[\"wt.M.m\"]"
   ]
  },
  {
   "cell_type": "markdown",
   "metadata": {},
   "source": [
    "### III. if energy models already generated, read directly from file"
   ]
  },
  {
   "cell_type": "code",
   "execution_count": null,
   "metadata": {},
   "outputs": [],
   "source": [
    "all_energy_model = specseq_ewm_utils.read_ewm_files(os.path.join(spec_basedir,\"specseq_ewm_sklearn.txt\"))"
   ]
  },
  {
   "cell_type": "markdown",
   "metadata": {},
   "source": [
    "### IV. Compare predicted with observed relative binding energy"
   ]
  },
  {
   "cell_type": "code",
   "execution_count": null,
   "metadata": {},
   "outputs": [],
   "source": [
    "# predict energy for all sequences based on ePWM\n",
    "predicted_energy_ser = {}\n",
    "for name in all_energy_model.index:\n",
    "    p = name.split(\".\")[0]\n",
    "    lib = name.split(\".\")[1]\n",
    "    band = name.split(\".\")[2]\n",
    "    # need to normalize to make row sum 0 if not already done\n",
    "    ewm = specseq_ewm_utils.normalize_ewm(all_energy_model[name].copy())\n",
    "    # predict relative binding energy based on ewm\n",
    "    predicted_energy_df = specseq_ewm_utils.predict_bindingEnergy(lib_designs[lib], ewm)\n",
    "    predicted_energy_ser[name] = predicted_energy_df\n",
    "predicted_energy_ser = pd.Series(predicted_energy_ser)"
   ]
  },
  {
   "cell_type": "code",
   "execution_count": null,
   "metadata": {},
   "outputs": [],
   "source": [
    "def plot_obs_vs_pred_energy(observed_energy_df, predicted_energy_df, identifier=None, stepsize=0.4, figax=None):\n",
    "    # compile observed and predicted energy data\n",
    "    # infer reference sequence from observed data (by definition ddG = 0)\n",
    "    observed_energy_df = observed_energy_df.set_index(\"sequence\")\n",
    "    obs_energy_col = [x for x in observed_energy_df.columns.tolist() if re.search(\"ddG\", x)]\n",
    "    # infer energy column to plot from identifier if specified, else plot the first energy column\n",
    "    identifier = \"avg.\"+identifier+\"ddG\"\n",
    "    print(identifier)\n",
    "    if identifier in obs_energy_col:\n",
    "        obs_energy_col = identifier\n",
    "    else :\n",
    "        obs_energy_col = obs_energy_col[0]\n",
    "    ref_seq = observed_energy_df[observed_energy_df[obs_energy_col] == 0].index[0]\n",
    "    print(\"reference seqeunce identified: \" + ref_seq)\n",
    "\n",
    "    # offset the predicted energy by energy of the infered reference sequence\n",
    "    predicted_energy_df[[\"pred.ddG\"]] = predicted_energy_df[[\"pred.ddG\"]] - predicted_energy_df.loc[ref_seq,\"pred.ddG\"]\n",
    "\n",
    "    # Set up the figure\n",
    "    if figax:\n",
    "        fig, ax = figax\n",
    "    else:\n",
    "        fig, ax = plt.subplots()\n",
    "    # compiled dataframes\n",
    "    compiled_df = pd.merge(observed_energy_df[[obs_energy_col]], predicted_energy_df, left_index=True, right_index=True)\n",
    "    fig, ax, text = specseq_plot_utils.make_correlation_scatter(compiled_df, [obs_energy_col,\"pred.ddG\"], colors=\"black\",\n",
    "                                            xticks=None, yticks=None, stepsize=stepsize, annotate_list=None, figname=None, figax=(fig,ax))\n",
    "    \n",
    "    # rotate x tick labels for spacing purpose\n",
    "    specseq_plot_utils.rotate_ticks(ax.get_xticklabels(), 90)\n",
    "    # add stats\n",
    "    left,right = ax.get_xlim()\n",
    "    bottom, top = ax.get_ylim()\n",
    "    if bottom > -0.4:\n",
    "        bottom = 0\n",
    "    \n",
    "    # format pearson's r\n",
    "    r_value = text[0]\n",
    "    ax.text(right-0.1, bottom+0.05, r_value, horizontalalignment='right', verticalalignment='bottom', style = 'italic')\n",
    "    # add plot title\n",
    "    #ax.set_title(protein_pair[0].upper()+\" x \"+protein_pair[1].upper()+\"  \"+lib+\" lib\")\n",
    "    #ax.set_title(\"Relative Binding Energy [kT]\", fontsize=12)\n",
    "   \n",
    "    # add plot title and axis titles\n",
    "    ax.set_xlabel(\"obs.ddG\")\n",
    "    ax.set_ylabel(\"pred.ddG\")\n",
    "    ax.set_title(identifier+\"\\nobs vs. pred\")\n",
    "\n",
    "    return fig, ax"
   ]
  },
  {
   "cell_type": "code",
   "execution_count": null,
   "metadata": {},
   "outputs": [],
   "source": [
    "# make obs vs pred ddG plots for selected protein\n",
    "nplots = [n for n in all_energy_model.index if n.__contains__(\"wt\")]\n",
    "fig, axes = plt.subplots(ncols=len(nplots), nrows=1, figsize=(4,2), dpi=150,\n",
    "                            constrained_layout=True)\n",
    "axes = axes.flatten()\n",
    "for i,n in enumerate(nplots):\n",
    "    # infer protien, library and band from energy model id\n",
    "    print(f\"ploting {n}\")\n",
    "    p = n.split(\".\")[0]\n",
    "    lib = n.split(\".\")[1]\n",
    "    band = n.split(\".\")[2]\n",
    "    # retreive predicted energy dataframe\n",
    "    predicted_energy_df = predicted_energy_ser[n].copy()\n",
    "    # plot observed vs predicted relative binding energy\n",
    "    mask = lambda x: x.MMcount <= 2\n",
    "    fig, axes[i] = plot_obs_vs_pred_energy(all_energy_matrix[p].loc[mask,:], predicted_energy_df, identifier=lib+\".\"+band, stepsize=0.4, figax=(fig, axes[i]))"
   ]
  },
  {
   "cell_type": "markdown",
   "metadata": {},
   "source": [
    "### V. Explore relative ranking of motif variants"
   ]
  },
  {
   "cell_type": "code",
   "execution_count": null,
   "metadata": {},
   "outputs": [],
   "source": [
    "def motif_rank_order_dots(energy_df, annotate=None, y_column=\"pred.ddG\", ticklabel_size=3, markersize=1, title=None, colors=[\"#1A1A1A\", \"#DC9514\"], figax=None):\n",
    "    if figax:\n",
    "        fig, ax = figax\n",
    "    else:\n",
    "        fig, ax = plt.subplots()\n",
    "\n",
    "    energy_df = energy_df.copy()\n",
    "    # initilize an array for y axis\n",
    "    y_pos = np.arange(len(energy_df.index))\n",
    "\n",
    "    # add selected sequences on ticks\n",
    "    ax.set_yticks(y_pos)\n",
    "    labels = [item.get_text() for item in ax.get_yticklabels()]\n",
    "    for i,seq in enumerate(energy_df.sequence):\n",
    "        if annotate: #highlight those interesting ones\n",
    "            if seq in annotate:\n",
    "                ax.scatter(y=i,x=energy_df.at[i,y_column], color=colors[1], marker=\"o\", s=markersize)\n",
    "            else:\n",
    "                ax.scatter(y=i,x=energy_df.at[i,y_column], color=colors[0], marker=\"o\", s=markersize) \n",
    "        else:\n",
    "            ax.scatter(y=i,x=energy_df.at[i,y_column], color=colors[0], marker=\"o\", s=markersize)\n",
    "        labels[i] = seq\n",
    "\n",
    "    ax.yaxis.set_ticks_position(\"right\")\n",
    "    ax.set_yticklabels(labels, fontsize=ticklabel_size, va=\"center\", ha=\"left\")\n",
    "    ax.tick_params(axis='y', which='major', pad=2)\n",
    "\n",
    "    # add color to the labels\n",
    "    for i,seq in enumerate(energy_df.sequence):\n",
    "        if annotate: #highlight those interesting ones\n",
    "            if seq in annotate:\n",
    "                ax.get_yticklabels()[i].set_color(colors[1])\n",
    "\n",
    "    # add axis decorations\n",
    "    ax.set_xlabel(\"$\\Delta \\Delta G$ (kcal/mol)\")\n",
    "\n",
    "    if title:\n",
    "        ax.set_title(title)\n",
    "\n",
    "    return fig, ax"
   ]
  },
  {
   "cell_type": "code",
   "execution_count": null,
   "metadata": {},
   "outputs": [],
   "source": [
    "# setup figure\n",
    "fig, ax_list = plt.subplots(nrows=1, ncols=4, figsize=(6,3),\n",
    "                            dpi=300, constrained_layout=True,\n",
    "                            gridspec_kw=dict(wspace=0.1))\n",
    "\n",
    "# make ranked motif dotplot\n",
    "lib = \"M\"\n",
    "\n",
    "annotation_library = {  \"M\":[\"TAATTA\", \"TAATTT\", \"TAATCC\", \"TAAGCC\"],\n",
    "                        \"Mrev\": [\"TAATTA\", \"AAATTA\", \"GGATTA\", \"GGCTTA\"]}\n",
    "\n",
    "for i,(name,ref) in enumerate(zip([f\"wt.{lib}.m\", f\"r90w.{lib}.m\", f\"e80a.{lib}.m\", f\"k88n.{lib}.m\"], [\"TAATCC\"]*3+[\"TAATTA\"])): \n",
    "    #use library design instead of consensus sequence if want to plot all sequences in the library\n",
    "    predicted_energy_df = predicted_energy_ser[name].copy()\n",
    "    # annotate mismatches and keep only MMcount<=2\n",
    "    # because the predicted dataframe has not library column but the count_mistmatches function requires that\n",
    "    predicted_energy_df[\"lib\"] = lib\n",
    "    predicted_energy_df = calculate_ratios.count_mismatches(predicted_energy_df, lib, ref)\n",
    "    mask = lambda x: x.MMcount <= 2\n",
    "    predicted_energy_df = predicted_energy_df.loc[mask,:]\n",
    "    # sort by energy consensus (bottom) to weakest (top)\n",
    "    predicted_energy_df = predicted_energy_df.sort_values(by=\"pred.ddG\", ascending=False).reset_index(drop=False)\n",
    "\n",
    "    # normalize to consensus\n",
    "    predicted_energy_df[\"pred.ddG\"] = predicted_energy_df[\"pred.ddG\"] - predicted_energy_df.loc[lambda df: df.sequence == ref, \"pred.ddG\"].item()\n",
    "\n",
    "    ax = ax_list[i]\n",
    "    fig, ax = motif_rank_order_dots(predicted_energy_df, annotate=annotation_library[lib], ticklabel_size=3, title=name, colors=[\"#1A1A1A\", \"#DC9514\"], figax=(fig, ax))\n",
    "\n",
    "for i in range(4):\n",
    "    ax_list[i].set_xlim(-.5,3.5)\n"
   ]
  },
  {
   "cell_type": "code",
   "execution_count": null,
   "metadata": {},
   "outputs": [],
   "source": [
    "specseq_plot_utils.save_fig(fig, prefix=os.path.join(figure_dir, \"ewm_rank_order\", f\"{lib}_library\"), timestamp=False, tight_layout=False)"
   ]
  }
 ],
 "metadata": {
  "interpreter": {
   "hash": "de4a238fd4983551e7ca352ba395a91b204ed1f7f480c058d262160abae16af4"
  },
  "kernelspec": {
   "display_name": "Python 3.9.6 ('specseq')",
   "language": "python",
   "name": "python3"
  },
  "language_info": {
   "codemirror_mode": {
    "name": "ipython",
    "version": 3
   },
   "file_extension": ".py",
   "mimetype": "text/x-python",
   "name": "python",
   "nbconvert_exporter": "python",
   "pygments_lexer": "ipython3",
   "version": "3.9.13"
  },
  "orig_nbformat": 4
 },
 "nbformat": 4,
 "nbformat_minor": 2
}
